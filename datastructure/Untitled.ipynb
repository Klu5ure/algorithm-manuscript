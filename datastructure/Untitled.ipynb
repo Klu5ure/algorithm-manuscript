{
 "cells": [
  {
   "cell_type": "code",
   "execution_count": 13,
   "id": "c37b60f6",
   "metadata": {},
   "outputs": [
    {
     "name": "stdout",
     "output_type": "stream",
     "text": [
      "2\n",
      "3\n",
      "4\n",
      "-----\n",
      "2\n"
     ]
    }
   ],
   "source": [
    "class ListNode():\n",
    "    def __init__(self, data):\n",
    "        self.data = data\n",
    "        self.next = None\n",
    "\n",
    "class LinkedList():\n",
    "    def __init__(self):\n",
    "        self.head = None\n",
    "    \n",
    "    def append(self, data):\n",
    "        newNode = ListNode(data)\n",
    "        if not self.head:\n",
    "            self.head = newNode\n",
    "            return\n",
    "        temp = self.head\n",
    "        while temp.next:\n",
    "            temp = temp.next\n",
    "        temp.next = newNode\n",
    "    \n",
    "    def display(self):\n",
    "        temp = self.head\n",
    "        while temp:\n",
    "            print(temp.data)\n",
    "            temp = temp.next\n",
    "            \n",
    "    def getIndex(self, index):\n",
    "        temp = self.head\n",
    "        while index > 0:\n",
    "            temp = temp.next\n",
    "            index -= 1\n",
    "        print(temp.data)\n",
    "\n",
    "list = LinkedList()\n",
    "list.append(2)\n",
    "list.append(3)\n",
    "list.append(4)\n",
    "list.display()\n",
    "print('-----')\n",
    "list.getIndex(0)"
   ]
  },
  {
   "cell_type": "code",
   "execution_count": null,
   "id": "6d03ffe6",
   "metadata": {},
   "outputs": [],
   "source": []
  }
 ],
 "metadata": {
  "kernelspec": {
   "display_name": "Python 3 (ipykernel)",
   "language": "python",
   "name": "python3"
  },
  "language_info": {
   "codemirror_mode": {
    "name": "ipython",
    "version": 3
   },
   "file_extension": ".py",
   "mimetype": "text/x-python",
   "name": "python",
   "nbconvert_exporter": "python",
   "pygments_lexer": "ipython3",
   "version": "3.11.4"
  }
 },
 "nbformat": 4,
 "nbformat_minor": 5
}
